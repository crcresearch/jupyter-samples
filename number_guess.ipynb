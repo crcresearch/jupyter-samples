{
 "cells": [
  {
   "cell_type": "code",
   "execution_count": 2,
   "metadata": {},
   "outputs": [
    {
     "name": "stdout",
     "output_type": "stream",
     "text": [
      "I'm thinking of a number between 1 and 100. Can you guess it?\n",
      "Please enter a number: \n",
      "Invalid number. Aborting.\n",
      "Invalid number. Aborting.\n"
     ]
    }
   ],
   "source": [
    "import random\n",
    "\n",
    "random_number = random.randint(1, 100)\n",
    "\n",
    "print(\"I'm thinking of a number between 1 and 100. Can you guess it?\")\n",
    "print(\"Please enter a number: \")\n",
    "\n",
    "while True:\n",
    "    user_input = input()\n",
    "    try:\n",
    "        user_input = int(user_input)\n",
    "    except ValueError:\n",
    "        print(\"Invalid number. Aborting.\")\n",
    "        break\n",
    "    if user_input == random_number:\n",
    "        print(\"Congratulations! You've guessed the number!\")\n",
    "        break\n",
    "    elif user_input < random_number:\n",
    "        print(\"The number is higher. Try again.\")\n",
    "    else:\n",
    "        print(\"The number is lower. Try again.\")\n",
    "        "
   ]
  }
 ],
 "metadata": {
  "kernelspec": {
   "display_name": "Python 3",
   "language": "python",
   "name": "python3"
  },
  "language_info": {
   "codemirror_mode": {
    "name": "ipython",
    "version": 3
   },
   "file_extension": ".py",
   "mimetype": "text/x-python",
   "name": "python",
   "nbconvert_exporter": "python",
   "pygments_lexer": "ipython3",
   "version": "3.10.12"
  }
 },
 "nbformat": 4,
 "nbformat_minor": 2
}
